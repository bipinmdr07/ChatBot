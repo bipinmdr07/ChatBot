{
 "cells": [
  {
   "cell_type": "code",
   "execution_count": 1,
   "metadata": {},
   "outputs": [
    {
     "name": "stdout",
     "output_type": "stream",
     "text": [
      "all rows completed\n"
     ]
    }
   ],
   "source": [
    "# get the questions and answers data and store it in array\n",
    "import sqlite3\n",
    "import pandas as pd\n",
    "\n",
    "timeframes = ['2015-01']\n",
    "\n",
    "for timeframe in timeframes:\n",
    "    connection = sqlite3.connect('{}.db'.format(timeframe))\n",
    "    c = connection.cursor()\n",
    "    limit = 5000\n",
    "    last_unix = 0\n",
    "    cur_length = limit\n",
    "    counter = 0\n",
    "    questions = []\n",
    "    answers = []\n",
    "    \n",
    "    while cur_length == limit:\n",
    "        df = pd.read_sql(\"SELECT * FROM parent_reply WHERE unix > {} AND parent NOT NULL AND score > 0 ORDER BY unix ASC LIMIT {}\".format(last_unix, limit), connection)\n",
    "        last_unix = df.tail(1)['unix'].values[0]\n",
    "        cur_length = len(df)\n",
    "        \n",
    "        for content in df['parent'].values:\n",
    "            questions.append(content)\n",
    "            \n",
    "        for content in df['comment'].values:\n",
    "            answers.append(content)\n",
    "            \n",
    "        counter += 1\n",
    "        if counter % 2 == 0:\n",
    "            print(counter * limit, 'rows completed so far')\n",
    "            \n",
    "    print('all rows completed')"
   ]
  },
  {
   "cell_type": "code",
   "execution_count": 2,
   "metadata": {},
   "outputs": [
    {
     "name": "stdout",
     "output_type": "stream",
     "text": [
      "4182 4182\n"
     ]
    }
   ],
   "source": [
    "print(len(questions), len(answers))"
   ]
  },
  {
   "cell_type": "code",
   "execution_count": 3,
   "metadata": {},
   "outputs": [],
   "source": [
    "vocab = {}\n",
    "\n",
    "for question in questions:\n",
    "    words = question.split()\n",
    "    for word in words:\n",
    "        if word not in vocab:\n",
    "            vocab[word] = 1\n",
    "        else:\n",
    "            vocab[word] += 1\n",
    "            \n",
    "for answer in answers:\n",
    "    words = question.split()\n",
    "    for word in words:\n",
    "        if word not in vocab:\n",
    "            vocab[word] = 1\n",
    "        else:\n",
    "            vocab[word] += 1"
   ]
  },
  {
   "cell_type": "code",
   "execution_count": 4,
   "metadata": {},
   "outputs": [
    {
     "name": "stdout",
     "output_type": "stream",
     "text": [
      "10864 3832\n"
     ]
    }
   ],
   "source": [
    "count = 0\n",
    "for key, value in vocab.items():\n",
    "    if value >= 2:\n",
    "        count += 1\n",
    "        \n",
    "print(len(vocab), count)"
   ]
  },
  {
   "cell_type": "code",
   "execution_count": 5,
   "metadata": {},
   "outputs": [],
   "source": [
    "questions_vocab_to_int, answers_vocab_to_int = {}, {}\n",
    "word_num = 0\n",
    "threshold = 2\n",
    "\n",
    "for word, count in vocab.items():\n",
    "    if count >= threshold:\n",
    "        questions_vocab_to_int[word] = word_num\n",
    "        word_num += 1\n",
    "    \n",
    "word_num = 0\n",
    "for word, count in vocab.items():\n",
    "    if count >= threshold:\n",
    "        answers_vocab_to_int[word] = word_num\n",
    "        word_num += 1"
   ]
  },
  {
   "cell_type": "code",
   "execution_count": 6,
   "metadata": {},
   "outputs": [],
   "source": [
    "# Add the unique tokens to the vocabulary dictionaries.\n",
    "codes = ['<PAD>', '<EOS>', '<UNK>', '<GO>']\n",
    "\n",
    "for code in codes:\n",
    "    questions_vocab_to_int[code] = len(questions_vocab_to_int) + 1\n",
    "    \n",
    "for code in codes:\n",
    "    answers_vocab_to_int[code] = len(answers_vocab_to_int) + 1"
   ]
  },
  {
   "cell_type": "code",
   "execution_count": 7,
   "metadata": {},
   "outputs": [],
   "source": [
    "# create dictionaries to map the unique integers to their respective words.\n",
    "questions_int_to_vocab = {v_i: v for v, v_i in questions_vocab_to_int.items()}\n",
    "answers_int_to_vocab = {v_i: v for v, v_i in answers_vocab_to_int.items()}"
   ]
  },
  {
   "cell_type": "code",
   "execution_count": 8,
   "metadata": {},
   "outputs": [],
   "source": [
    "# add the end of sequence token to the end of every answer.\n",
    "for i in range(len(answers)):\n",
    "    answers[i] += '<EOS>'"
   ]
  },
  {
   "cell_type": "code",
   "execution_count": 9,
   "metadata": {},
   "outputs": [],
   "source": [
    "# convert the text to integers\n",
    "# Replace any words that are not in the respective vocabulary with unknown\n",
    "questions_int = []\n",
    "\n",
    "for question in questions:\n",
    "    ints = []\n",
    "    for word in question.split():\n",
    "        if word not in questions_vocab_to_int:\n",
    "            ints.append(questions_vocab_to_int['<UNK>'])\n",
    "        else:\n",
    "            ints.append(questions_vocab_to_int[word])\n",
    "    questions_int.append(ints)"
   ]
  },
  {
   "cell_type": "code",
   "execution_count": 10,
   "metadata": {},
   "outputs": [],
   "source": [
    "answers_int = []\n",
    "for answer in answers:\n",
    "    ints = []\n",
    "    for word in answer.split():\n",
    "        if word not in answers_vocab_to_int:\n",
    "            ints.append(answers_vocab_to_int['<UNK>'])\n",
    "        else:\n",
    "            ints.append(answers_vocab_to_int[word])\n",
    "    answers_int.append(ints)"
   ]
  },
  {
   "cell_type": "code",
   "execution_count": 11,
   "metadata": {},
   "outputs": [
    {
     "name": "stdout",
     "output_type": "stream",
     "text": [
      "4182 4182\n"
     ]
    }
   ],
   "source": [
    "print(len(questions_int), len(answers_int))"
   ]
  },
  {
   "cell_type": "code",
   "execution_count": 12,
   "metadata": {},
   "outputs": [],
   "source": [
    "# calculating the percentage of words replaced by <UNK>\n",
    "word_count = 0\n",
    "unk_count = 0\n",
    "\n",
    "for question in questions_int:\n",
    "    for word in question:\n",
    "        if word == questions_vocab_to_int['<UNK>']:\n",
    "            unk_count += 1\n",
    "        word_count += 1\n",
    "        \n",
    "for answer in answers_int:\n",
    "    for word in answer:\n",
    "        if word == answers_vocab_to_int['<UNK>']:\n",
    "            unk_count += 1\n",
    "        word_count += 1\n",
    "        \n",
    "unk_ratio = round(unk_count/word_count, 4) * 100"
   ]
  },
  {
   "cell_type": "code",
   "execution_count": 13,
   "metadata": {},
   "outputs": [
    {
     "name": "stdout",
     "output_type": "stream",
     "text": [
      "Total number of words: 126572\n",
      "Number of times <UNK> is used: 17613\n",
      "Percent of words that are <UNK>: 13.92%\n"
     ]
    }
   ],
   "source": [
    "print('Total number of words:', word_count)\n",
    "print('Number of times <UNK> is used:', unk_count)\n",
    "print('Percent of words that are <UNK>: {}%'.format(round(unk_ratio, 3)))"
   ]
  },
  {
   "cell_type": "code",
   "execution_count": 14,
   "metadata": {},
   "outputs": [
    {
     "name": "stdout",
     "output_type": "stream",
     "text": [
      "50\n"
     ]
    }
   ],
   "source": [
    "# get the max word in questions or answers\n",
    "\n",
    "max_count = 0\n",
    "\n",
    "for question in questions:\n",
    "    if len(question.split()) > max_count:\n",
    "        max_count = len(question.split())\n",
    "        \n",
    "for answer in answers:\n",
    "    if len(answer.split()) > max_count:\n",
    "        max_count = len(answer.split())\n",
    "        \n",
    "print(max_count)\n",
    "    "
   ]
  },
  {
   "cell_type": "code",
   "execution_count": 15,
   "metadata": {},
   "outputs": [],
   "source": [
    "# sort questions and answers by the length of questions to reduce amount of padding during training\n",
    "\n",
    "sorted_questions = []\n",
    "sorted_answers = []\n",
    "\n",
    "for length in range(1, max_count + 1):\n",
    "    for i in enumerate(questions_int):\n",
    "        if len(i[1]) == length:\n",
    "            sorted_questions.append(questions_int[i[0]])\n",
    "            sorted_answers.append(answers_int[i[0]])"
   ]
  },
  {
   "cell_type": "code",
   "execution_count": 16,
   "metadata": {},
   "outputs": [
    {
     "name": "stdout",
     "output_type": "stream",
     "text": [
      "[49]\n",
      "[3835]\n",
      "\n",
      "[361]\n",
      "[3835]\n",
      "\n",
      "[3835]\n",
      "[3835]\n",
      "\n",
      "[566]\n",
      "[366, 33, 3835, 970, 4, 3835]\n",
      "\n",
      "[3835]\n",
      "[3835]\n",
      "\n"
     ]
    }
   ],
   "source": [
    "for i in range(5):\n",
    "    print(sorted_questions[i])\n",
    "    print(sorted_answers[i])\n",
    "    print()"
   ]
  },
  {
   "cell_type": "code",
   "execution_count": 17,
   "metadata": {},
   "outputs": [],
   "source": [
    "def model_inputs():\n",
    "    input_data = tf.placeholder(tf.int32, [None, None], name='input')\n",
    "    targets = tf.placeholder(tf.int32, [None, None], name='targets')\n",
    "    lr = tf.placeholder(tf.int32, name='learning_rate')\n",
    "    keep_prob = tf.placeholder(tf.float32, name='keep_prob')\n",
    "    \n",
    "    return input_data, targets, lr, keep_prob"
   ]
  },
  {
   "cell_type": "code",
   "execution_count": 18,
   "metadata": {},
   "outputs": [],
   "source": [
    "def process_encoding_input(target_data, vocab_to_int, batch_size):\n",
    "    ending = tf.strided_slice(target_data, [0, 0], [batch_size, -1], [1, 1])\n",
    "    dec_input = tf.concat([tf.fill([batch_size, 1], vocab_to_int['<GO>']), ending], 1)\n",
    "    \n",
    "    return dec_input"
   ]
  },
  {
   "cell_type": "code",
   "execution_count": 19,
   "metadata": {},
   "outputs": [],
   "source": [
    "def encoding_layer(rnn_inputs, rnn_size, num_layers, keep_prob, sequence_length):\n",
    "    lstm = tf.contrib.rnn.BasicLSTMCell(rnn_size)\n",
    "    drop = tf.contrib.rnn.DropoutWrapper(lstm, input_keep_prob = keep_prob)\n",
    "    enc_cell = tf.contrib.rnn.MultiRNNCell([drop] * num_layers)\n",
    "    _, enc_state = tf.nn.bidirectional_dynamic_rnn(cell_fw = enc_cell, cell_bw = enc_cell, sequence_length = sequence_length, inputs = rnn_inputs, dtype = tf.float32)\n",
    "    \n",
    "    return enc_state"
   ]
  },
  {
   "cell_type": "code",
   "execution_count": 20,
   "metadata": {},
   "outputs": [],
   "source": [
    "def decoding_layer_train(encoder_state, dec_cell, dec_embed_input, sequence_length, decoding_scope, output_fn, keep_prob, batch_size):\n",
    "    attention_states = tf.zeros([batch_size, 1, dec_cell.output_size])\n",
    "    \n",
    "    att_keys, att_vals, att_score_fn, att_construct_fn = tf.contrib.seq2seq.prepare_attention(attention_states,\n",
    "                                                                                             attention_option = 'bahdanau',\n",
    "                                                                                             num_units = dec_cell.output_size)\n",
    "    \n",
    "    train_decoder_fn = tf.contrib.seq2seq.attention_decoder_fn_train(encoder_state[0],\n",
    "                                                                    att_keys,\n",
    "                                                                    att_vals,\n",
    "                                                                    att_score_fn,\n",
    "                                                                    att_construct_fn,\n",
    "                                                                    name = 'attn_dec_train')\n",
    "    \n",
    "    train_pred, _, _ = tf.contrib.seq2seq.dynamic_rnn_decoder(dec_cell,\n",
    "                                                             train_decoder_fn,\n",
    "                                                             dec_embed_input,\n",
    "                                                             sequence_length,\n",
    "                                                             scope = decoding_scope)\n",
    "    \n",
    "    train_pred_drop = tf.nn.dropout(train_pred, keep_prob)\n",
    "    return output_fn(train_pred_drop)"
   ]
  },
  {
   "cell_type": "code",
   "execution_count": 21,
   "metadata": {},
   "outputs": [],
   "source": [
    "def decoding_layer_infer(encoder_state, dec_cell, dec_embeddings, start_of_sequence_id, end_of_sequence_id, maximum_length, vocab_size, decoding_scope, output_fn, keep_prob, batch_size):\n",
    "    attention_states = tf.zeros([batch_size, 1, dec_cell.output_size])\n",
    "    \n",
    "    att_keys, att_vals, att_score_fn, att_construct_fn = tf.contrib.seq2seq.prepare_attention(attention_states,\n",
    "                                                                                            attention_option = 'bahdanau',\n",
    "                                                                                            num_units = dec_cell.output_size)\n",
    "    \n",
    "    infer_decoder_fn = tf.contrib.seq2seq.attention_decoder_fn_inference(output_fn,\n",
    "                                                                        encoder_state[0],\n",
    "                                                                        att_keys,\n",
    "                                                                        att_vals,\n",
    "                                                                        att_score_fn,\n",
    "                                                                        att_construct_fn,\n",
    "                                                                        dec_embeddings,\n",
    "                                                                        start_of_sequence_id,\n",
    "                                                                        end_of_sequence_id,\n",
    "                                                                        maximum_length,\n",
    "                                                                        vocab_size,\n",
    "                                                                        name = 'attn_dec_inf')\n",
    "    \n",
    "    infer_logits, _, _ = tf.contrib.seq2seq.dynamic_rnn_decoder(dec_cell,\n",
    "                                                               infer_decoder_fn,\n",
    "                                                               scope = decoding_scope)\n",
    "    \n",
    "    return infer_logits"
   ]
  },
  {
   "cell_type": "code",
   "execution_count": 22,
   "metadata": {},
   "outputs": [],
   "source": [
    "def decoding_layer(dec_embed_input, dec_embeddings, encoder_state, vocab_size, sequence_length, rnn_size, num_layers, vocab_to_int, keep_prob, batch_size):\n",
    "    with tf.variable_scope(\"decoding\") as decoding_scope:\n",
    "        lstm = tf.contrib.rnn.BasicLSTMCell(rnn_size)\n",
    "        drop = tf.contrib.rnn.DropoutWrapper(lstm, input_keep_prob = keep_prob)\n",
    "        dec_cell = tf.contrib.rnn.MultiRNNCell([drop] * num_layers)\n",
    "        \n",
    "        weights = tf.truncated_normal_initializer(stddev = 0.1)\n",
    "        biases = tf.zeros_initializer()\n",
    "        output_fn = lambda x: tf.contrib.layers.fully_connected(x,\n",
    "                                                               vocab_size,\n",
    "                                                               None,\n",
    "                                                               scope = decoding_scope,\n",
    "                                                               weights_initializer = weights,\n",
    "                                                               biases_initializer = biases)\n",
    "        \n",
    "        train_logits = decoding_layer_train(encoder_state,\n",
    "                                           dec_cell,\n",
    "                                           dec_embed_input,\n",
    "                                           sequence_length,\n",
    "                                           decoding_scope,\n",
    "                                           output_fn,\n",
    "                                           keep_prob,\n",
    "                                           batch_size)\n",
    "        \n",
    "        decoding_scope.reuse_variables()\n",
    "        infer_logits = decoding_layer_infer(encoder_state,\n",
    "                                           dec_cell,\n",
    "                                           dec_embeddings,\n",
    "                                           vocab_to_int['<GO>'],\n",
    "                                           vocab_to_int['<EOS>'],\n",
    "                                           sequence_length - 1,\n",
    "                                           vocab_size,\n",
    "                                           decoding_scope,\n",
    "                                           output_fn,\n",
    "                                           keep_prob,\n",
    "                                           batch_size)\n",
    "        \n",
    "        return train_logits,infer_logits"
   ]
  },
  {
   "cell_type": "code",
   "execution_count": 23,
   "metadata": {},
   "outputs": [],
   "source": [
    "def seq2seq_model(input_data, target_data, keep_prob, batch_size, sequence_length, answers_vocab_size, questions_vocab_size, enc_embedding_size, dec_embedding_size, rnn_size, num_layers, questions_vocab_to_int):\n",
    "    enc_embed_input = tf.contrib.layers.embed_sequence(input_data,\n",
    "                                                      answers_vocab_size + 1,\n",
    "                                                      enc_embedding_size,\n",
    "                                                      initializer = tf.random_uniform_initializer(0, 1))\n",
    "    enc_state = encoding_layer(enc_embed_input, rnn_size, num_layers, keep_prob, sequence_length)\n",
    "    \n",
    "    dec_input = process_encoding_input(target_data, questions_vocab_to_int, batch_size)\n",
    "    dec_embeddings = tf.Variable(tf.random_uniform([questions_vocab_size + 1, dec_embedding_size], 0, 1))\n",
    "    dec_embed_input = tf.nn.embedding_lookup(dec_embeddings, dec_input)\n",
    "    \n",
    "    train_logits, infer_logits = decoding_layer(dec_embed_input,\n",
    "                                               dec_embeddings,\n",
    "                                               enc_state,\n",
    "                                               questions_vocab_size,\n",
    "                                               sequence_length,\n",
    "                                               rnn_size,\n",
    "                                               num_layers,\n",
    "                                               questions_vocab_to_int,\n",
    "                                               keep_prob,\n",
    "                                               batch_size)\n",
    "    \n",
    "    return train_logits, infer_logits"
   ]
  },
  {
   "cell_type": "code",
   "execution_count": 25,
   "metadata": {},
   "outputs": [],
   "source": [
    "# setting the hyperparameters\n",
    "epochs = 10\n",
    "batch_size = 128\n",
    "rnn_size = 512\n",
    "num_layers = 4\n",
    "encoding_embedding_size = 512\n",
    "decoding_embedding_size = 512\n",
    "learning_rate = 0.005\n",
    "learning_rate_decay = 0.9\n",
    "min_learning_rate = 0.0001\n",
    "keep_probability = 0.75"
   ]
  },
  {
   "cell_type": "code",
   "execution_count": 26,
   "metadata": {
    "scrolled": true
   },
   "outputs": [
    {
     "name": "stderr",
     "output_type": "stream",
     "text": [
      "/home/bipinmdr07/anaconda3/lib/python3.6/importlib/_bootstrap.py:219: RuntimeWarning: compiletime version 3.5 of module 'tensorflow.python.framework.fast_tensor_util' does not match runtime version 3.6\n",
      "  return f(*args, **kwds)\n"
     ]
    }
   ],
   "source": [
    "import tensorflow as tf\n",
    "\n",
    "# Reset the graph to ensure that it is ready for training\n",
    "tf.reset_default_graph()\n",
    "# Start the session\n",
    "sess = tf.InteractiveSession()\n",
    "\n",
    "# Load the model inputs\n",
    "input_data, targets, lr, keep_prob = model_inputs()\n",
    "\n",
    "# Sequence length will be the max line length for each batch\n",
    "sequence_length = tf.placeholder_with_default(max_count, None, name = 'sequence_length')\n",
    "\n",
    "# Find the shape of the input data for sequence_loss\n",
    "input_shape = tf.shape(input_data)\n",
    "\n",
    "# Create the training and inference logits\n",
    "train_logits, inference_logits = seq2seq_model(tf.reverse(input_data, [-1]),\n",
    "                                              targets,\n",
    "                                              keep_prob,\n",
    "                                              batch_size,\n",
    "                                              sequence_length,\n",
    "                                              len(answers_vocab_to_int),\n",
    "                                              len(questions_vocab_to_int),\n",
    "                                              encoding_embedding_size,\n",
    "                                              decoding_embedding_size,\n",
    "                                              rnn_size,\n",
    "                                              num_layers,\n",
    "                                              questions_vocab_to_int)\n",
    "\n",
    "# Create a tensor for the inference logits, needed if loading a checkpoint version of model\n",
    "tf.identity(inference_logits, 'logits')\n",
    "\n",
    "with tf.name_scope(\"optimization\"):\n",
    "    # Loss function\n",
    "    cost = tf.contrib.seq2seq.sequence_loss(train_logits,\n",
    "                                           targets,\n",
    "                                           tf.ones([input_shape[0], sequence_length]))\n",
    "    \n",
    "    # Optimizer\n",
    "    optimizer = tf.train.AdamOptimizer(learning_rate)\n",
    "    \n",
    "    # Gradient Clipping\n",
    "    gradients = optimizer.compute_gradients(cost)\n",
    "    capped_gradients = [(tf.clip_by_value(grad, -5., 5.), var) for grad, var in gradients if grad is not None]\n",
    "    train_op = optimizer.apply_gradients(capped_gradients)"
   ]
  },
  {
   "cell_type": "code",
   "execution_count": 27,
   "metadata": {},
   "outputs": [],
   "source": [
    "def pad_sentence_batch(sentence_batch, vocab_to_int):\n",
    "    max_sentence = max([len(sentence) for sentence in sentence_batch])\n",
    "    return [sentence + [vocab_to_int['<PAD>']] * (max_sentence - len(sentence)) for sentence in sentence_batch]"
   ]
  },
  {
   "cell_type": "code",
   "execution_count": 28,
   "metadata": {},
   "outputs": [],
   "source": [
    "def batch_data(question_s, answer_s, batch_size):\n",
    "    for batch_i in range(len(question_s) // batch_size):\n",
    "        start_i = batch_i * batch_size\n",
    "        questions_batch = question_s[start_i:start_i + batch_size]\n",
    "        answers_batch = answer_s[start_i:start_i + batch_size]\n",
    "        pad_questions_batch = np.array(pad_sentence_batch(questions_batch, questions_vocab_to_int))\n",
    "        pad_answers_batch = np.array(pad_sentence_batch(answers_batch, answers_vocab_to_int))\n",
    "        yield pad_questions_batch, pad_answers_batch"
   ]
  },
  {
   "cell_type": "code",
   "execution_count": 29,
   "metadata": {},
   "outputs": [
    {
     "name": "stdout",
     "output_type": "stream",
     "text": [
      "3554 627\n"
     ]
    }
   ],
   "source": [
    "# Validate the training with 10% of the data.\n",
    "train_valid_split = int(len(sorted_questions) * 0.15)\n",
    "\n",
    "# Split the questions and answers into training and validating data\n",
    "train_questions = sorted_questions[train_valid_split:]\n",
    "train_answers = sorted_answers[train_valid_split:]\n",
    "\n",
    "valid_questions = sorted_questions[:train_valid_split]\n",
    "valid_answers = sorted_answers[:train_valid_split]\n",
    "\n",
    "print(len(train_questions), len(valid_questions))"
   ]
  },
  {
   "cell_type": "code",
   "execution_count": 30,
   "metadata": {
    "scrolled": true
   },
   "outputs": [
    {
     "name": "stdout",
     "output_type": "stream",
     "text": [
      "Epoch   1/10 Batch    0/27 - Loss:  1.632, Seconds: 91.43\n",
      "Epoch   1/10 Batch    5/27 - Loss:  6.593, Seconds: 68.22\n",
      "Epoch   1/10 Batch   10/27 - Loss:  2.911, Seconds: 73.75\n",
      "Valid Loss:  1.529, Seconds: 15.93\n",
      "New Record\n",
      "Epoch   1/10 Batch   15/27 - Loss:  2.459, Seconds: 82.09\n",
      "Epoch   1/10 Batch   20/27 - Loss:  2.540, Seconds: 93.78\n",
      "Valid Loss:  1.554, Seconds: 15.83\n",
      "No Improvement.\n",
      "Epoch   1/10 Batch   25/27 - Loss:  2.701, Seconds: 102.59\n",
      "Epoch   2/10 Batch    0/27 - Loss:  0.915, Seconds: 90.93\n",
      "Epoch   2/10 Batch    5/27 - Loss:  2.048, Seconds: 69.59\n",
      "Epoch   2/10 Batch   10/27 - Loss:  2.145, Seconds: 86.49\n",
      "Valid Loss:  1.389, Seconds: 15.88\n",
      "New Record\n",
      "Epoch   2/10 Batch   15/27 - Loss:  2.176, Seconds: 94.21\n",
      "Epoch   2/10 Batch   20/27 - Loss:  2.395, Seconds: 99.35\n",
      "Valid Loss:  1.536, Seconds: 15.85\n",
      "No Improvement.\n",
      "Epoch   2/10 Batch   25/27 - Loss:  2.656, Seconds: 115.21\n",
      "Epoch   3/10 Batch    0/27 - Loss:  0.906, Seconds: 89.11\n",
      "Epoch   3/10 Batch    5/27 - Loss:  2.058, Seconds: 72.60\n",
      "Epoch   3/10 Batch   10/27 - Loss:  2.148, Seconds: 89.98\n",
      "Valid Loss:  1.337, Seconds: 15.79\n",
      "New Record\n",
      "Epoch   3/10 Batch   15/27 - Loss:  2.173, Seconds: 94.41\n",
      "Epoch   3/10 Batch   20/27 - Loss:  2.374, Seconds: 100.22\n",
      "Valid Loss:  1.497, Seconds: 15.77\n",
      "No Improvement.\n",
      "Epoch   3/10 Batch   25/27 - Loss:  2.615, Seconds: 116.67\n",
      "Epoch   4/10 Batch    0/27 - Loss:  0.880, Seconds: 87.96\n",
      "Epoch   4/10 Batch    5/27 - Loss:  1.983, Seconds: 72.28\n",
      "Epoch   4/10 Batch   10/27 - Loss:  2.113, Seconds: 89.61\n",
      "Valid Loss:  1.351, Seconds: 17.37\n",
      "No Improvement.\n",
      "Epoch   4/10 Batch   15/27 - Loss:  2.144, Seconds: 94.12\n",
      "Epoch   4/10 Batch   20/27 - Loss:  2.371, Seconds: 99.00\n",
      "Valid Loss:  1.476, Seconds: 15.85\n",
      "No Improvement.\n",
      "Epoch   4/10 Batch   25/27 - Loss:  2.612, Seconds: 124.95\n",
      "Epoch   5/10 Batch    0/27 - Loss:  0.871, Seconds: 85.57\n",
      "Epoch   5/10 Batch    5/27 - Loss:  1.942, Seconds: 71.35\n",
      "Epoch   5/10 Batch   10/27 - Loss:  2.093, Seconds: 87.55\n",
      "Valid Loss:  1.357, Seconds: 15.80\n",
      "No Improvement.\n",
      "Epoch   5/10 Batch   15/27 - Loss:  2.134, Seconds: 92.63\n",
      "Epoch   5/10 Batch   20/27 - Loss:  2.354, Seconds: 98.02\n",
      "Valid Loss:  1.526, Seconds: 15.78\n",
      "No Improvement.\n",
      "Epoch   5/10 Batch   25/27 - Loss:  2.596, Seconds: 115.14\n",
      "Epoch   6/10 Batch    0/27 - Loss:  0.870, Seconds: 86.27\n",
      "Epoch   6/10 Batch    5/27 - Loss:  1.944, Seconds: 70.93\n",
      "Epoch   6/10 Batch   10/27 - Loss:  2.098, Seconds: 87.09\n",
      "Valid Loss:  1.359, Seconds: 15.84\n",
      "No Improvement.\n",
      "Epoch   6/10 Batch   15/27 - Loss:  2.139, Seconds: 91.95\n",
      "Epoch   6/10 Batch   20/27 - Loss:  2.346, Seconds: 97.41\n",
      "Valid Loss:  1.522, Seconds: 15.83\n",
      "No Improvement.\n",
      "Epoch   6/10 Batch   25/27 - Loss:  2.578, Seconds: 113.59\n",
      "Epoch   7/10 Batch    0/27 - Loss:  0.870, Seconds: 85.43\n",
      "Epoch   7/10 Batch    5/27 - Loss:  1.899, Seconds: 71.41\n",
      "Epoch   7/10 Batch   10/27 - Loss:  2.043, Seconds: 87.82\n",
      "Valid Loss:  1.302, Seconds: 15.89\n",
      "New Record\n",
      "Epoch   7/10 Batch   15/27 - Loss:  2.041, Seconds: 91.16\n",
      "Epoch   7/10 Batch   20/27 - Loss:  2.089, Seconds: 100.58\n",
      "Valid Loss:  1.201, Seconds: 15.83\n",
      "New Record\n",
      "Epoch   7/10 Batch   25/27 - Loss:  2.241, Seconds: 122.09\n",
      "Epoch   8/10 Batch    0/27 - Loss:  0.701, Seconds: 95.07\n",
      "Epoch   8/10 Batch    5/27 - Loss:  1.531, Seconds: 75.20\n",
      "Epoch   8/10 Batch   10/27 - Loss:  1.691, Seconds: 98.02\n",
      "Valid Loss:  1.034, Seconds: 16.24\n",
      "New Record\n",
      "Epoch   8/10 Batch   15/27 - Loss:  1.759, Seconds: 104.00\n",
      "Epoch   8/10 Batch   20/27 - Loss:  1.962, Seconds: 102.61\n",
      "Valid Loss:  1.028, Seconds: 15.84\n",
      "New Record\n",
      "Epoch   8/10 Batch   25/27 - Loss:  2.195, Seconds: 124.29\n",
      "Epoch   9/10 Batch    0/27 - Loss:  0.680, Seconds: 94.45\n",
      "Epoch   9/10 Batch    5/27 - Loss:  1.480, Seconds: 81.86\n",
      "Epoch   9/10 Batch   10/27 - Loss:  1.657, Seconds: 97.84\n",
      "Valid Loss:  1.009, Seconds: 16.25\n",
      "New Record\n",
      "Epoch   9/10 Batch   15/27 - Loss:  1.721, Seconds: 102.85\n",
      "Epoch   9/10 Batch   20/27 - Loss:  1.920, Seconds: 113.26\n",
      "Valid Loss:  1.008, Seconds: 19.53\n",
      "New Record\n",
      "Epoch   9/10 Batch   25/27 - Loss:  2.157, Seconds: 152.70\n",
      "Epoch  10/10 Batch    0/27 - Loss:  0.667, Seconds: 106.51\n",
      "Epoch  10/10 Batch    5/27 - Loss:  1.447, Seconds: 86.18\n",
      "Epoch  10/10 Batch   10/27 - Loss:  1.628, Seconds: 102.95\n",
      "Valid Loss:  1.008, Seconds: 17.72\n",
      "No Improvement.\n",
      "Epoch  10/10 Batch   15/27 - Loss:  1.693, Seconds: 107.03\n",
      "Epoch  10/10 Batch   20/27 - Loss:  1.890, Seconds: 114.03\n",
      "Valid Loss:  1.008, Seconds: 21.89\n",
      "No Improvement.\n",
      "Epoch  10/10 Batch   25/27 - Loss:  2.125, Seconds: 153.21\n"
     ]
    }
   ],
   "source": [
    "import numpy as np\n",
    "import time\n",
    "display_step = 5\n",
    "stop_early = 0\n",
    "stop = 10\n",
    "validation_check = ((len(train_questions)) // batch_size // 2) - 1\n",
    "\n",
    "total_train_loss = 0\n",
    "summary_valid_loss = []\n",
    "\n",
    "checkpoint = \"best_model.ckpt\"\n",
    "\n",
    "sess.run(tf.global_variables_initializer())\n",
    "\n",
    "for epoch_i in range(1, epochs + 1):\n",
    "    for batch_i, (questions_batch, answers_batch) in enumerate(batch_data(train_questions, train_answers, batch_size)):\n",
    "        start_time = time.time()\n",
    "        _, loss = sess.run([train_op, cost],\n",
    "                          {input_data: questions_batch,\n",
    "                          targets: answers_batch,\n",
    "                          lr: learning_rate,\n",
    "                          sequence_length: answers_batch.shape[1],\n",
    "                          keep_prob: keep_probability})\n",
    "        \n",
    "        total_train_loss += loss\n",
    "        end_time = time.time()\n",
    "        batch_time = end_time - start_time\n",
    "        \n",
    "        if batch_i % display_step == 0:\n",
    "            print('Epoch {:>3}/{} Batch {:>4}/{} - Loss: {:6.3f}, Seconds: {:>4.2f}'.format(epoch_i,\n",
    "                                                                                           epochs,\n",
    "                                                                                           batch_i,\n",
    "                                                                                           len(train_questions) // batch_size,\n",
    "                                                                                           total_train_loss / display_step,\n",
    "                                                                                           batch_time * display_step))\n",
    "            total_train_loss = 0\n",
    "            \n",
    "        if batch_i % validation_check == 0 and batch_i > 0:\n",
    "            total_valid_loss = 0\n",
    "            start_time = time.time()\n",
    "            for batch_ii, (questions_batch, answers_batch) in enumerate(batch_data(valid_questions, valid_answers, batch_size)):\n",
    "                valid_loss = sess.run(cost,\n",
    "                                     {input_data: questions_batch,\n",
    "                                     lr: learning_rate,\n",
    "                                     targets: answers_batch,\n",
    "                                     sequence_length: answers_batch.shape[1],\n",
    "                                     keep_prob: 1})\n",
    "                total_valid_loss += valid_loss\n",
    "            end_time = time.time()\n",
    "            batch_time = end_time - start_time\n",
    "            avg_valid_loss = total_valid_loss / (len(valid_questions) / batch_size)\n",
    "            print('Valid Loss: {:>6.3f}, Seconds: {:>5.2f}'.format(avg_valid_loss, batch_time))\n",
    "            \n",
    "            # Reduce learning rate, but not below its minimal value\n",
    "            learning_rate *= learning_rate_decay\n",
    "            if learning_rate < min_learning_rate:\n",
    "                learning_rate = min_learning_rate\n",
    "                \n",
    "            summary_valid_loss.append(avg_valid_loss)\n",
    "            if avg_valid_loss <= min(summary_valid_loss):\n",
    "                print('New Record')\n",
    "                stop_early = 0\n",
    "                saver = tf.train.Saver()\n",
    "                saver.save(sess, checkpoint)\n",
    "                \n",
    "            else:\n",
    "                print('No Improvement.')\n",
    "                stop_early += 1\n",
    "                if stop_early == stop:\n",
    "                    break\n",
    "                    \n",
    "    if stop_early == stop:\n",
    "        print('Stopping Training.')\n",
    "        break"
   ]
  },
  {
   "cell_type": "code",
   "execution_count": 31,
   "metadata": {},
   "outputs": [],
   "source": [
    "def question_to_seq(question, vocab_to_int):\n",
    "    question = clean_text(question)\n",
    "    return [vocab_to_int.get(word, vocab_to_int['<UNK>']) for word in question.split()]"
   ]
  },
  {
   "cell_type": "code",
   "execution_count": 35,
   "metadata": {},
   "outputs": [],
   "source": [
    "import re\n",
    "def clean_text(text):\n",
    "    '''Clean text by removing unnecessary characters and altering the format of words.'''\n",
    "\n",
    "    text = text.lower()\n",
    "    \n",
    "    text = re.sub(r\"i'm\", \"i am\", text)\n",
    "    text = re.sub(r\"he's\", \"he is\", text)\n",
    "    text = re.sub(r\"she's\", \"she is\", text)\n",
    "    text = re.sub(r\"it's\", \"it is\", text)\n",
    "    text = re.sub(r\"that's\", \"that is\", text)\n",
    "    text = re.sub(r\"what's\", \"that is\", text)\n",
    "    text = re.sub(r\"where's\", \"where is\", text)\n",
    "    text = re.sub(r\"how's\", \"how is\", text)\n",
    "    text = re.sub(r\"\\'ll\", \" will\", text)\n",
    "    text = re.sub(r\"\\'ve\", \" have\", text)\n",
    "    text = re.sub(r\"\\'re\", \" are\", text)\n",
    "    text = re.sub(r\"\\'d\", \" would\", text)\n",
    "    text = re.sub(r\"\\'re\", \" are\", text)\n",
    "    text = re.sub(r\"won't\", \"will not\", text)\n",
    "    text = re.sub(r\"can't\", \"cannot\", text)\n",
    "    text = re.sub(r\"n't\", \" not\", text)\n",
    "    text = re.sub(r\"n'\", \"ng\", text)\n",
    "    text = re.sub(r\"'bout\", \"about\", text)\n",
    "    text = re.sub(r\"'til\", \"until\", text)\n",
    "    text = re.sub(r\"[-()\\\"#/@;:<>{}`+=~|.!?,]\", \"\", text)\n",
    "    \n",
    "    return text"
   ]
  },
  {
   "cell_type": "code",
   "execution_count": 47,
   "metadata": {},
   "outputs": [
    {
     "name": "stdout",
     "output_type": "stream",
     "text": [
      "Question\n",
      "Input words: ['i', 'am', 'expecting', 'they', 'release', 'fallout', '4', 'before', '<UNK>']\n",
      "\n",
      "Answer\n",
      "Response words: ['i', '<UNK>', '<UNK>', '<UNK>', '<UNK>', '<UNK>']\n"
     ]
    }
   ],
   "source": [
    "\n",
    "random = np.random.choice(len(questions))\n",
    "input_question = questions[random]\n",
    "\n",
    "\n",
    "input_question = question_to_seq(input_question, questions_vocab_to_int)\n",
    "\n",
    "# pad the questions until it equals the max_line length\n",
    "input_question = input_question + [questions_vocab_to_int['<PAD>']] * (max_count - len(input_question))\n",
    "batch_shell = np.zeros((batch_size, max_count))\n",
    "\n",
    "batch_shell[0] = input_question\n",
    "\n",
    "# Run the model with the input question\n",
    "answer_logits = sess.run(inference_logits, {input_data: batch_shell, keep_prob: 1.0})[0]\n",
    "\n",
    "pad_q = questions_vocab_to_int['<PAD>']\n",
    "pad_a = answers_vocab_to_int['<PAD>']\n",
    "\n",
    "print('Question')\n",
    "print('Input words: {}'.format([questions_int_to_vocab[i] for i in input_question if i != pad_q]))\n",
    "\n",
    "print('\\nAnswer')\n",
    "print('Response words: {}'.format([answers_int_to_vocab[i] for i in np.argmax(answer_logits, 1) if i != pad_a]))"
   ]
  },
  {
   "cell_type": "code",
   "execution_count": null,
   "metadata": {},
   "outputs": [],
   "source": []
  }
 ],
 "metadata": {
  "kernelspec": {
   "display_name": "Python 3",
   "language": "python",
   "name": "python3"
  },
  "language_info": {
   "codemirror_mode": {
    "name": "ipython",
    "version": 3
   },
   "file_extension": ".py",
   "mimetype": "text/x-python",
   "name": "python",
   "nbconvert_exporter": "python",
   "pygments_lexer": "ipython3",
   "version": "3.6.4"
  }
 },
 "nbformat": 4,
 "nbformat_minor": 2
}
